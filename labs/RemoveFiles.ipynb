{
 "cells": [
  {
   "cell_type": "code",
   "execution_count": 1,
   "id": "4f627b4f",
   "metadata": {},
   "outputs": [],
   "source": [
    "import os\n",
    "import glob\n",
    "import shutil"
   ]
  },
  {
   "cell_type": "code",
   "execution_count": 19,
   "id": "f9df2219",
   "metadata": {},
   "outputs": [],
   "source": [
    "rm_files =  [\".log\",\".rpt\",\".bak\",\".wlf\",\"wlfth8w0hy\"]\n",
    "rm_paths =  [\"db\",\"incremental_db\",\"output_files\",\"msim_transcript\",\"rtl_work\"]"
   ]
  },
  {
   "cell_type": "code",
   "execution_count": 20,
   "id": "02cd5cb4",
   "metadata": {},
   "outputs": [],
   "source": [
    "def remove(path):\n",
    "    \n",
    "    #remove files\n",
    "    for rf in rm_files: #for each file type\n",
    "        for file in glob.glob(path+\"/*\"+rf+\"*\"):\n",
    "            print(file)\n",
    "            os.remove(file)\n",
    "    \n",
    "    for path_i in glob.glob(path+\"*/\"):\n",
    "        remove(path_i)\n",
    "        \n",
    "    #remove paths\n",
    "    for rp in rm_paths:\n",
    "        \n",
    "        if rp in path:\n",
    "            print(rp)\n",
    "            shutil.rmtree(path)"
   ]
  },
  {
   "cell_type": "code",
   "execution_count": 21,
   "id": "3805cf9c",
   "metadata": {},
   "outputs": [],
   "source": [
    "remove(\"D:/gdrive/Meu Drive/estudos/2021.2/CD II/labs\")"
   ]
  },
  {
   "cell_type": "code",
   "execution_count": null,
   "id": "5fad3944",
   "metadata": {},
   "outputs": [],
   "source": []
  }
 ],
 "metadata": {
  "kernelspec": {
   "display_name": "Python 3 (ipykernel)",
   "language": "python",
   "name": "python3"
  },
  "language_info": {
   "codemirror_mode": {
    "name": "ipython",
    "version": 3
   },
   "file_extension": ".py",
   "mimetype": "text/x-python",
   "name": "python",
   "nbconvert_exporter": "python",
   "pygments_lexer": "ipython3",
   "version": "3.10.5"
  }
 },
 "nbformat": 4,
 "nbformat_minor": 5
}
